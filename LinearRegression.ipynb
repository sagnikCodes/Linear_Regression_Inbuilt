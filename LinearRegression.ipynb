{
 "cells": [
  {
   "cell_type": "markdown",
   "id": "23555a0e",
   "metadata": {},
   "source": [
    "# Linear Regression Inbuilt"
   ]
  },
  {
   "cell_type": "markdown",
   "id": "c9766056",
   "metadata": {},
   "source": [
    "Importing Library and loading data into a variable"
   ]
  },
  {
   "cell_type": "code",
   "execution_count": 1,
   "id": "3d9d33bb",
   "metadata": {},
   "outputs": [
    {
     "data": {
      "text/plain": [
       "array([[ 32.50234527,  31.70700585],\n",
       "       [ 53.42680403,  68.77759598],\n",
       "       [ 61.53035803,  62.5623823 ],\n",
       "       [ 47.47563963,  71.54663223],\n",
       "       [ 59.81320787,  87.23092513],\n",
       "       [ 55.14218841,  78.21151827],\n",
       "       [ 52.21179669,  79.64197305],\n",
       "       [ 39.29956669,  59.17148932],\n",
       "       [ 48.10504169,  75.3312423 ],\n",
       "       [ 52.55001444,  71.30087989],\n",
       "       [ 45.41973014,  55.16567715],\n",
       "       [ 54.35163488,  82.47884676],\n",
       "       [ 44.1640495 ,  62.00892325],\n",
       "       [ 58.16847072,  75.39287043],\n",
       "       [ 56.72720806,  81.43619216],\n",
       "       [ 48.95588857,  60.72360244],\n",
       "       [ 44.68719623,  82.89250373],\n",
       "       [ 60.29732685,  97.37989686],\n",
       "       [ 45.61864377,  48.84715332],\n",
       "       [ 38.81681754,  56.87721319],\n",
       "       [ 66.18981661,  83.87856466],\n",
       "       [ 65.41605175, 118.5912173 ],\n",
       "       [ 47.48120861,  57.25181946],\n",
       "       [ 41.57564262,  51.39174408],\n",
       "       [ 51.84518691,  75.38065167],\n",
       "       [ 59.37082201,  74.76556403],\n",
       "       [ 57.31000344,  95.45505292],\n",
       "       [ 63.61556125,  95.22936602],\n",
       "       [ 46.73761941,  79.05240617],\n",
       "       [ 50.55676015,  83.43207142],\n",
       "       [ 52.22399609,  63.35879032],\n",
       "       [ 35.56783005,  41.4128853 ],\n",
       "       [ 42.43647694,  76.61734128],\n",
       "       [ 58.16454011,  96.76956643],\n",
       "       [ 57.50444762,  74.08413012],\n",
       "       [ 45.44053073,  66.58814441],\n",
       "       [ 61.89622268,  77.76848242],\n",
       "       [ 33.09383174,  50.71958891],\n",
       "       [ 36.43600951,  62.12457082],\n",
       "       [ 37.67565486,  60.81024665],\n",
       "       [ 44.55560838,  52.68298337],\n",
       "       [ 43.31828263,  58.56982472],\n",
       "       [ 50.07314563,  82.90598149],\n",
       "       [ 43.87061265,  61.4247098 ],\n",
       "       [ 62.99748075, 115.2441528 ],\n",
       "       [ 32.66904376,  45.57058882],\n",
       "       [ 40.16689901,  54.0840548 ],\n",
       "       [ 53.57507753,  87.99445276],\n",
       "       [ 33.86421497,  52.72549438],\n",
       "       [ 64.70713867,  93.57611869],\n",
       "       [ 38.11982403,  80.16627545],\n",
       "       [ 44.50253806,  65.10171157],\n",
       "       [ 40.59953838,  65.56230126],\n",
       "       [ 41.72067636,  65.28088692],\n",
       "       [ 51.08863468,  73.43464155],\n",
       "       [ 55.0780959 ,  71.13972786],\n",
       "       [ 41.37772653,  79.10282968],\n",
       "       [ 62.49469743,  86.52053844],\n",
       "       [ 49.20388754,  84.74269781],\n",
       "       [ 41.10268519,  59.35885025],\n",
       "       [ 41.18201611,  61.68403752],\n",
       "       [ 50.18638949,  69.84760416],\n",
       "       [ 52.37844622,  86.09829121],\n",
       "       [ 50.13548549,  59.10883927],\n",
       "       [ 33.64470601,  69.89968164],\n",
       "       [ 39.55790122,  44.86249071],\n",
       "       [ 56.13038882,  85.49806778],\n",
       "       [ 57.36205213,  95.53668685],\n",
       "       [ 60.26921439,  70.25193442],\n",
       "       [ 35.67809389,  52.72173496],\n",
       "       [ 31.588117  ,  50.39267014],\n",
       "       [ 53.66093226,  63.64239878],\n",
       "       [ 46.68222865,  72.24725107],\n",
       "       [ 43.10782022,  57.81251298],\n",
       "       [ 70.34607562, 104.25710159],\n",
       "       [ 44.49285588,  86.64202032],\n",
       "       [ 57.5045333 ,  91.486778  ],\n",
       "       [ 36.93007661,  55.23166089],\n",
       "       [ 55.80573336,  79.55043668],\n",
       "       [ 38.95476907,  44.84712424],\n",
       "       [ 56.9012147 ,  80.20752314],\n",
       "       [ 56.86890066,  83.14274979],\n",
       "       [ 34.3331247 ,  55.72348926],\n",
       "       [ 59.04974121,  77.63418251],\n",
       "       [ 57.78822399,  99.05141484],\n",
       "       [ 54.28232871,  79.12064627],\n",
       "       [ 51.0887199 ,  69.58889785],\n",
       "       [ 50.28283635,  69.51050331],\n",
       "       [ 44.21174175,  73.68756432],\n",
       "       [ 38.00548801,  61.36690454],\n",
       "       [ 32.94047994,  67.17065577],\n",
       "       [ 53.69163957,  85.66820315],\n",
       "       [ 68.76573427, 114.85387123],\n",
       "       [ 46.2309665 ,  90.12357207],\n",
       "       [ 68.31936082,  97.91982104],\n",
       "       [ 50.03017434,  81.53699078],\n",
       "       [ 49.23976534,  72.11183247],\n",
       "       [ 50.03957594,  85.23200734],\n",
       "       [ 48.14985889,  66.22495789],\n",
       "       [ 25.12848465,  53.45439421]])"
      ]
     },
     "execution_count": 1,
     "metadata": {},
     "output_type": "execute_result"
    }
   ],
   "source": [
    "import numpy as np\n",
    "data=np.loadtxt(\"data.csv\",delimiter=\",\")\n",
    "data"
   ]
  },
  {
   "cell_type": "markdown",
   "id": "c08ebd83",
   "metadata": {},
   "source": [
    "Input aur Output mei split iss numpy array ko"
   ]
  },
  {
   "cell_type": "code",
   "execution_count": 2,
   "id": "f5f9ad9d",
   "metadata": {},
   "outputs": [
    {
     "name": "stdout",
     "output_type": "stream",
     "text": [
      "[32.50234527 53.42680403 61.53035803 47.47563963 59.81320787 55.14218841\n",
      " 52.21179669 39.29956669 48.10504169 52.55001444 45.41973014 54.35163488\n",
      " 44.1640495  58.16847072 56.72720806 48.95588857 44.68719623 60.29732685\n",
      " 45.61864377 38.81681754 66.18981661 65.41605175 47.48120861 41.57564262\n",
      " 51.84518691 59.37082201 57.31000344 63.61556125 46.73761941 50.55676015\n",
      " 52.22399609 35.56783005 42.43647694 58.16454011 57.50444762 45.44053073\n",
      " 61.89622268 33.09383174 36.43600951 37.67565486 44.55560838 43.31828263\n",
      " 50.07314563 43.87061265 62.99748075 32.66904376 40.16689901 53.57507753\n",
      " 33.86421497 64.70713867 38.11982403 44.50253806 40.59953838 41.72067636\n",
      " 51.08863468 55.0780959  41.37772653 62.49469743 49.20388754 41.10268519\n",
      " 41.18201611 50.18638949 52.37844622 50.13548549 33.64470601 39.55790122\n",
      " 56.13038882 57.36205213 60.26921439 35.67809389 31.588117   53.66093226\n",
      " 46.68222865 43.10782022 70.34607562 44.49285588 57.5045333  36.93007661\n",
      " 55.80573336 38.95476907 56.9012147  56.86890066 34.3331247  59.04974121\n",
      " 57.78822399 54.28232871 51.0887199  50.28283635 44.21174175 38.00548801\n",
      " 32.94047994 53.69163957 68.76573427 46.2309665  68.31936082 50.03017434\n",
      " 49.23976534 50.03957594 48.14985889 25.12848465]\n",
      "[ 31.70700585  68.77759598  62.5623823   71.54663223  87.23092513\n",
      "  78.21151827  79.64197305  59.17148932  75.3312423   71.30087989\n",
      "  55.16567715  82.47884676  62.00892325  75.39287043  81.43619216\n",
      "  60.72360244  82.89250373  97.37989686  48.84715332  56.87721319\n",
      "  83.87856466 118.5912173   57.25181946  51.39174408  75.38065167\n",
      "  74.76556403  95.45505292  95.22936602  79.05240617  83.43207142\n",
      "  63.35879032  41.4128853   76.61734128  96.76956643  74.08413012\n",
      "  66.58814441  77.76848242  50.71958891  62.12457082  60.81024665\n",
      "  52.68298337  58.56982472  82.90598149  61.4247098  115.2441528\n",
      "  45.57058882  54.0840548   87.99445276  52.72549438  93.57611869\n",
      "  80.16627545  65.10171157  65.56230126  65.28088692  73.43464155\n",
      "  71.13972786  79.10282968  86.52053844  84.74269781  59.35885025\n",
      "  61.68403752  69.84760416  86.09829121  59.10883927  69.89968164\n",
      "  44.86249071  85.49806778  95.53668685  70.25193442  52.72173496\n",
      "  50.39267014  63.64239878  72.24725107  57.81251298 104.25710159\n",
      "  86.64202032  91.486778    55.23166089  79.55043668  44.84712424\n",
      "  80.20752314  83.14274979  55.72348926  77.63418251  99.05141484\n",
      "  79.12064627  69.58889785  69.51050331  73.68756432  61.36690454\n",
      "  67.17065577  85.66820315 114.85387123  90.12357207  97.91982104\n",
      "  81.53699078  72.11183247  85.23200734  66.22495789  53.45439421]\n"
     ]
    }
   ],
   "source": [
    "input=data[:,0]\n",
    "output=data[:,1]\n",
    "print(input)\n",
    "print(output)"
   ]
  },
  {
   "cell_type": "markdown",
   "id": "8338b3eb",
   "metadata": {},
   "source": [
    "Now we have input array alag aur output array alag as need that to train_test_split"
   ]
  },
  {
   "cell_type": "code",
   "execution_count": 3,
   "id": "c6c196af",
   "metadata": {},
   "outputs": [],
   "source": [
    "from sklearn.model_selection import train_test_split"
   ]
  },
  {
   "cell_type": "code",
   "execution_count": 6,
   "id": "18cbb08d",
   "metadata": {},
   "outputs": [
    {
     "name": "stdout",
     "output_type": "stream",
     "text": [
      "Training Data\n",
      "( 45.44053072531998 , 66.5881444142286 )\n",
      "( 68.31936081825536 , 97.91982103524285 )\n",
      "( 63.61556125145331 , 95.22936601755531 )\n",
      "( 40.1668990087037 , 54.08405479622361 )\n",
      "( 36.43600951138687 , 62.12457081807178 )\n",
      "( 57.36205213323824 , 95.53668684646722 )\n",
      "( 25.128484647772304 , 53.454394214850524 )\n",
      "( 51.088634678336796 , 73.4346415463243 )\n",
      "( 50.03017434031214 , 81.53699078301503 )\n",
      "( 44.21174175209011 , 73.68756431831729 )\n",
      "( 44.555608383275356 , 52.68298336638778 )\n",
      "( 33.86421497177824 , 52.725494375900425 )\n",
      "( 41.102685187349664 , 59.35885024862493 )\n",
      "( 41.57564261748702 , 51.39174407983231 )\n",
      "( 57.50444761534179 , 74.08413011660252 )\n",
      "( 51.08871989897914 , 69.58889785111847 )\n",
      "( 41.72067635634129 , 65.28088692082282 )\n",
      "( 36.93007660919181 , 55.231660886212836 )\n",
      "( 48.95588856609372 , 60.723602440673965 )\n",
      "( 59.04974121466681 , 77.63418251167786 )\n",
      "( 43.31828263186572 , 58.56982471769287 )\n",
      "( 32.66904376346719 , 45.570588823376085 )\n",
      "( 53.691639571070056 , 85.66820314500154 )\n",
      "( 57.31000343834809 , 95.45505292257474 )\n",
      "( 48.14985889102886 , 66.22495788805463 )\n",
      "( 43.87061264521837 , 61.42470980433912 )\n",
      "( 55.0780959049232 , 71.13972785861894 )\n",
      "( 51.84518690563943 , 75.38065166531236 )\n",
      "( 59.81320786951232 , 87.23092513368739 )\n",
      "( 49.203887540826 , 84.74269780782622 )\n",
      "( 64.7071386661213 , 93.57611869265824 )\n",
      "( 65.41605174513407 , 118.5912173025225 )\n",
      "( 50.28283634823073 , 69.51050331149439 )\n",
      "( 47.4756396347861 , 71.54663223356778 )\n",
      "( 70.34607561504933 , 104.25710158543822 )\n",
      "( 52.22399608555305 , 63.35879031749788 )\n",
      "( 56.13038881687547 , 85.49806777884022 )\n",
      "( 31.58811699813283 , 50.3926701350799 )\n",
      "( 50.073145632289034 , 82.90598148507051 )\n",
      "( 53.57507753167366 , 87.99445275811041 )\n",
      "( 38.00548800806069 , 61.36690453724013 )\n",
      "( 48.10504169176825 , 75.33124229706306 )\n",
      "( 41.18201610516982 , 61.68403752483363 )\n",
      "( 32.50234526945303 , 31.70700584656992 )\n",
      "( 32.940479942618296 , 67.17065576899512 )\n",
      "( 62.49469742726979 , 86.52053844034715 )\n",
      "( 47.48120860786787 , 57.25181946226897 )\n",
      "( 50.1863894948806 , 69.84760415824918 )\n",
      "( 50.13548548628612 , 59.10883926769964 )\n",
      "( 39.299566694317065 , 59.17148932186951 )\n",
      "( 49.23976534275376 , 72.11183246961566 )\n",
      "( 58.16847071685779 , 75.39287042599496 )\n",
      "( 60.269214393997906 , 70.25193441977159 )\n",
      "( 54.28232870596741 , 79.12064627468003 )\n",
      "( 56.72720805709661 , 81.43619215887864 )\n",
      "( 50.55676014854777 , 83.43207142132371 )\n",
      "( 46.73761940797697 , 79.05240616956559 )\n",
      "( 54.35163488122892 , 82.47884675749792 )\n",
      "( 45.61864377295583 , 48.84715331735507 )\n",
      "( 66.1898166067526 , 83.87856466460276 )\n",
      "( 38.119824026822805 , 80.16627544737096 )\n",
      "( 59.37082201108952 , 74.76556403215137 )\n",
      "( 52.211796692214 , 79.64197304980874 )\n",
      "( 53.66093226167304 , 63.64239877565775 )\n",
      "( 57.50453330326841 , 91.48677800011014 )\n",
      "( 53.42680403327502 , 68.77759598163891 )\n",
      "( 44.687196231480904 , 82.89250373145371 )\n",
      "( 33.64470600619178 , 69.89968164362763 )\n",
      "( 38.954769073377065 , 44.8471242424676 )\n",
      "( 55.14218841394382 , 78.21151827079923 )\n",
      "( 44.49285588085407 , 86.642020318822 )\n",
      "( 52.55001444273382 , 71.30087988685035 )\n",
      "( 46.68222864947192 , 72.24725106866237 )\n",
      "( 44.16404949677335 , 62.008923245725825 )\n",
      "( 33.09383173616396 , 50.71958891231208 )\n",
      "Testing Data\n",
      "( 56.901214702247074 , 80.20752313968276 )\n",
      "( 57.78822399323067 , 99.05141484174827 )\n",
      "( 58.16454011019286 , 96.7695664261082 )\n",
      "( 56.868900661384046 , 83.14274979204346 )\n",
      "( 46.23096649831025 , 90.12357206996742 )\n",
      "( 60.297326851333466 , 97.37989686216608 )\n",
      "( 61.89622268029126 , 77.76848241779302 )\n",
      "( 34.33312470421609 , 55.723489260543914 )\n",
      "( 35.67809388941073 , 52.72173496477499 )\n",
      "( 39.55790122290683 , 44.8624907111644 )\n",
      "( 68.76573426962166 , 114.85387123391394 )\n",
      "( 37.67565486085074 , 60.81024664990221 )\n",
      "( 41.3777265348952 , 79.10282968354986 )\n",
      "( 40.59953838455232 , 65.56230126040037 )\n",
      "( 44.5025380646451 , 65.10171157056033 )\n",
      "( 42.43647694405564 , 76.61734128007404 )\n",
      "( 35.56783004774663 , 41.41288530370056 )\n",
      "( 62.99748074755309 , 115.24415280079529 )\n",
      "( 55.80573335794274 , 79.55043667850761 )\n",
      "( 45.419730144973755 , 55.16567714595912 )\n",
      "( 61.53035802563644 , 62.5623822979458 )\n",
      "( 43.107820219102464 , 57.8125129761814 )\n",
      "( 50.03957593987599 , 85.23200734232567 )\n",
      "( 52.37844621923622 , 86.0982912057741 )\n",
      "( 38.81681753744564 , 56.877213186268506 )\n"
     ]
    }
   ],
   "source": [
    "input=input.reshape(-1,1) #convert to 2D array as want input as 2D array only\n",
    "x_train,x_test,y_train,y_test=train_test_split(input,output,test_size=0.25,random_state=1)\n",
    "print(\"Training Data\")\n",
    "for i in range(len(x_train)):\n",
    "    print(\"(\",x_train[i][0],\",\",y_train[i],\")\")\n",
    "print(\"Testing Data\")\n",
    "for i in range(len(x_test)):\n",
    "    print(\"(\",x_test[i][0],\",\",y_test[i],\")\")"
   ]
  },
  {
   "cell_type": "markdown",
   "id": "0e4de2d5",
   "metadata": {},
   "source": [
    "Now training data aur testing data mil gaya so training data se train algorithm ke object ko aur hypothesis function derive"
   ]
  },
  {
   "cell_type": "code",
   "execution_count": 7,
   "id": "d8c77ab1",
   "metadata": {},
   "outputs": [],
   "source": [
    "from sklearn.linear_model import LinearRegression"
   ]
  },
  {
   "cell_type": "code",
   "execution_count": 8,
   "id": "5acb8b8d",
   "metadata": {},
   "outputs": [],
   "source": [
    "algorithm=LinearRegression() #object of type LinearRegression ie will assume linear relationship of output with all input\n",
    "#isi ko train karenge training data se to get hypothesis"
   ]
  },
  {
   "cell_type": "code",
   "execution_count": 9,
   "id": "f3928481",
   "metadata": {},
   "outputs": [
    {
     "data": {
      "text/plain": [
       "LinearRegression()"
      ]
     },
     "execution_count": 9,
     "metadata": {},
     "output_type": "execute_result"
    }
   ],
   "source": [
    "algorithm.fit(x_train,y_train) #aisa karne se x_train,y_train corresponding pair ko (x,y) jaisa take as datapoint\n",
    "#aur train karega object ko to get parameters desired"
   ]
  },
  {
   "cell_type": "markdown",
   "id": "8cad0a07",
   "metadata": {},
   "source": [
    "Now we got m and c of the best fitting line(as linear regression lga rhe) so we can display that as below"
   ]
  },
  {
   "cell_type": "code",
   "execution_count": 10,
   "id": "70017b7b",
   "metadata": {},
   "outputs": [
    {
     "name": "stdout",
     "output_type": "stream",
     "text": [
      "Slope of the best fitting line is :  1.2310127687660946\n",
      "Intercept of the best fitting line is :  11.72677420352737\n"
     ]
    }
   ],
   "source": [
    "print(\"Slope of the best fitting line is : \",algorithm.coef_[0]) #coef_[0] as coef_ gives an array so 1 element hence 0th\n",
    "print(\"Intercept of the best fitting line is : \",algorithm.intercept_)"
   ]
  },
  {
   "cell_type": "markdown",
   "id": "ddefb3cf",
   "metadata": {},
   "source": [
    "Need to know line kis range mei plot so obtaining x_test ka min and max"
   ]
  },
  {
   "cell_type": "code",
   "execution_count": 11,
   "id": "4dbdff50",
   "metadata": {},
   "outputs": [],
   "source": [
    "x_test_min=x_test.min()\n",
    "x_test_max=x_test.max()"
   ]
  },
  {
   "cell_type": "markdown",
   "id": "46f2ea95",
   "metadata": {},
   "source": [
    "Now Plot using matplotlib first x_test and y_test"
   ]
  },
  {
   "cell_type": "code",
   "execution_count": 14,
   "id": "86d95eda",
   "metadata": {},
   "outputs": [
    {
     "data": {
      "image/png": "[encoded data removed]",
      "text/plain": [
       "<Figure size 432x288 with 1 Axes>"
      ]
     },
     "metadata": {
      "needs_background": "light"
     },
     "output_type": "display_data"
    }
   ],
   "source": [
    "import matplotlib.pyplot as plt\n",
    "plt.scatter(x_test,y_test)\n",
    "plt.show()"
   ]
  },
  {
   "cell_type": "markdown",
   "id": "a565b328",
   "metadata": {},
   "source": [
    "Now proceed making the line y=mx+c ie. hypothesis function"
   ]
  },
  {
   "cell_type": "markdown",
   "id": "f798f07f",
   "metadata": {},
   "source": [
    "For this x and y array make of same size and plot"
   ]
  },
  {
   "cell_type": "code",
   "execution_count": 16,
   "id": "a711b9d0",
   "metadata": {},
   "outputs": [
    {
     "data": {
      "image/png": "[encoded data removed]",
      "text/plain": [
       "<Figure size 432x288 with 1 Axes>"
      ]
     },
     "metadata": {
      "needs_background": "light"
     },
     "output_type": "display_data"
    }
   ],
   "source": [
    "x=np.arange(x_test_min,x_test_max+0.1,0.1)\n",
    "#so x ek np array [30.67,30.77,30.87,.......,70.56] aisa\n",
    "y=(algorithm.coef_)*x+(algorithm.intercept_) #so y bhi ek numpy array corresponding x ke elements into m and add c\n",
    "#now plot\n",
    "plt.plot(x,y,color=\"red\")\n",
    "plt.show()"
   ]
  },
  {
   "cell_type": "markdown",
   "id": "68f6a71f",
   "metadata": {},
   "source": [
    "Together plot ke liye need to write both codes together then at the end plt.show()"
   ]
  },
  {
   "cell_type": "code",
   "execution_count": 17,
   "id": "5a55ef62",
   "metadata": {},
   "outputs": [
    {
     "data": {
      "image/png": "[encoded data removed]",
      "text/plain": [
       "<Figure size 432x288 with 1 Axes>"
      ]
     },
     "metadata": {
      "needs_background": "light"
     },
     "output_type": "display_data"
    }
   ],
   "source": [
    "x=np.arange(x_test_min,x_test_max+0.1,0.1)\n",
    "#so x ek np array [30.67,30.77,30.87,.......,70.56] aisa\n",
    "y=(algorithm.coef_)*x+(algorithm.intercept_) #so y bhi ek numpy array corresponding x ke elements into m and add c\n",
    "#now plot\n",
    "plt.plot(x,y,color=\"red\")\n",
    "plt.scatter(x_test,y_test)\n",
    "plt.show()"
   ]
  },
  {
   "cell_type": "code",
   "execution_count": null,
   "id": "02b024bf",
   "metadata": {},
   "outputs": [],
   "source": []
  }
 ],
 "metadata": {
  "kernelspec": {
   "display_name": "Python 3 (ipykernel)",
   "language": "python",
   "name": "python3"
  },
  "language_info": {
   "codemirror_mode": {
    "name": "ipython",
    "version": 3
   },
   "file_extension": ".py",
   "mimetype": "text/x-python",
   "name": "python",
   "nbconvert_exporter": "python",
   "pygments_lexer": "ipython3",
   "version": "3.9.12"
  }
 },
 "nbformat": 4,
 "nbformat_minor": 5
}
